{
 "cells": [
  {
   "cell_type": "code",
   "execution_count": 59,
   "id": "7be8b3f2",
   "metadata": {
    "scrolled": false
   },
   "outputs": [
    {
     "name": "stdout",
     "output_type": "stream",
     "text": [
      "---------------------------------------------\n",
      "---------------------------------------------\n"
     ]
    }
   ],
   "source": [
    "from bs4 import BeautifulSoup\n",
    "import pandas as pd\n",
    "from itertools import zip_longest\n",
    "import datetime\n",
    "\n",
    "with open(\"2022.html\",errors=\"ignore\") as fp:\n",
    "    soup = BeautifulSoup(fp,'html.parser')\n",
    "    \n",
    "data=[]\n",
    "data1=[]\n",
    "data2=[]\n",
    "data3=[]\n",
    "for span in soup.find_all('div', {'class' : 'vn-teamTitle'}):\n",
    "    h3s = span.find_all('h3')\n",
    "    ps = span.find_all('p')\n",
    "    for h3 in h3s:\n",
    "        teams=(h3.text)\n",
    "        data.append(teams)\n",
    "    for p in ps:\n",
    "        scores=(p.text)\n",
    "        data1.append(scores)\n",
    "print('---------------------------------------------')\n",
    "\n",
    "for span in soup.find_all('div', {'class' : 'vn-matchTime'}):\n",
    "    ps = span.find_all('p')\n",
    "    \n",
    "    for p in ps:\n",
    "        stadium=(p.text)\n",
    "        data2.append(stadium)\n",
    "print('---------------------------------------------')\n",
    "\n",
    "for span in soup.find_all('div', {'class' : 'vn-date'}):\n",
    "    time=(span.text.rsplit('|', 1)[-1])\n",
    "    data3.append(time)\n",
    "    \n",
    "teams = [i for i, j in zip_longest(data, data[2:])\n",
    "                                    if i == j]\n",
    "scores = [i for i, j in zip_longest(data1, data1[2:])\n",
    "                                    if i == j]\n",
    "\n",
    "Teams = pd.DataFrame (teams, columns = ['Teams'])\n",
    "\n",
    "Scores = pd.DataFrame (scores, columns = ['Scores'])\n",
    "Scores['Scores']=Scores['Scores'].str.replace(\" \", \"\")\n",
    "\n",
    "Scores['Wickets']=Scores['Scores'].str[-1:]\n",
    "Scores['Scores']=Scores['Scores'].str[0:3]\n",
    "Stadium = pd.DataFrame (data2, columns = ['Stadium'])\n",
    "\n",
    "Date = pd.DataFrame (data3, columns = ['MatchDate'])\n",
    "\n",
    "frames = pd.concat([Teams,Scores, Stadium, Date],axis=1)\n",
    "\n",
    "#frames.to_excel(\"IPL_22.xlsx\", sheet_name='IPL_2022')\n",
    "frames.to_csv('IPL2021.csv', index=False, header=True)\n",
    "\n"
   ]
  }
 ],
 "metadata": {
  "kernelspec": {
   "display_name": "Python 3 (ipykernel)",
   "language": "python",
   "name": "python3"
  },
  "language_info": {
   "codemirror_mode": {
    "name": "ipython",
    "version": 3
   },
   "file_extension": ".py",
   "mimetype": "text/x-python",
   "name": "python",
   "nbconvert_exporter": "python",
   "pygments_lexer": "ipython3",
   "version": "3.9.12"
  }
 },
 "nbformat": 4,
 "nbformat_minor": 5
}
